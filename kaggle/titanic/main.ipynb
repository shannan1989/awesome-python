{
 "nbformat": 4,
 "nbformat_minor": 2,
 "metadata": {
  "language_info": {
   "name": "python",
   "codemirror_mode": {
    "name": "ipython",
    "version": 3
   },
   "version": "3.7.3-final"
  },
  "orig_nbformat": 2,
  "file_extension": ".py",
  "mimetype": "text/x-python",
  "name": "python",
  "npconvert_exporter": "python",
  "pygments_lexer": "ipython3",
  "version": 3,
  "kernelspec": {
   "name": "python37664bitbaseconda7068334ed3f549b1b223d6183453c6b0",
   "display_name": "Python 3.7.6 64-bit ('base': conda)"
  }
 },
 "cells": [
  {
   "cell_type": "code",
   "execution_count": null,
   "metadata": {},
   "outputs": [],
   "source": [
    "import pandas as pd\n",
    "import numpy as np"
   ]
  },
  {
   "cell_type": "code",
   "execution_count": null,
   "metadata": {},
   "outputs": [],
   "source": [
    "data_train = pd.read_csv('./data/train.csv')\n",
    "\n",
    "data_train.info()\n",
    "# 我们发现，有些列，比如Cabin，缺失值非常多\n",
    "# 在此场景中有很大影响的Age列也有一些缺失值\n",
    "\n",
    "data_train.describe()\n",
    "# mean字段告诉我们，大概0.383838的人活了下来，乘客的平均年龄大约是29.7岁，2、3等舱的乘客数比1等舱要多。"
   ]
  }
 ]
}