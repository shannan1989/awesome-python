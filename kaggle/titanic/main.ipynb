{
 "nbformat": 4,
 "nbformat_minor": 2,
 "metadata": {
  "language_info": {
   "name": "python",
   "codemirror_mode": {
    "name": "ipython",
    "version": 3
   },
   "version": "3.7.4-final"
  },
  "orig_nbformat": 2,
  "file_extension": ".py",
  "mimetype": "text/x-python",
  "name": "python",
  "npconvert_exporter": "python",
  "pygments_lexer": "ipython3",
  "version": 3,
  "kernelspec": {
   "name": "python3",
   "display_name": "Python 3"
  }
 },
 "cells": [
  {
   "cell_type": "code",
   "execution_count": null,
   "metadata": {},
   "outputs": [],
   "source": [
    "import pandas as pd\n",
    "import numpy as np"
   ]
  },
  {
   "cell_type": "code",
   "execution_count": null,
   "metadata": {},
   "outputs": [],
   "source": [
    "data_train = pd.read_csv('./data/train.csv')\n",
    "\n",
    "data_train.info()\n",
    "# 我们发现，有些列，比如Cabin，缺失值非常多\n",
    "# 在此场景中有很大影响的Age列也有一些缺失值\n",
    "\n",
    "data_train.describe()\n",
    "# mean字段告诉我们，大概0.383838的人活了下来，乘客的平均年龄大约是29.7岁，2、3等舱的乘客数比1等舱要多。"
   ]
  },
  {
   "cell_type": "code",
   "execution_count": null,
   "metadata": {},
   "outputs": [],
   "source": [
    "data_train.mean()"
   ]
  },
  {
   "cell_type": "code",
   "execution_count": null,
   "metadata": {},
   "outputs": [],
   "source": [
    "# 每个乘客都有这么多属性，那我们怎么知道哪些属性有用，而又如何使用它们呢？\n",
    "# 所以，对数据的认识很重要！\n",
    "# 我们需要深入的看一下数据，看一下 每个/多个 属性和最后的Survived之间有着什么样的关系。\n",
    "import matplotlib.pyplot as plt\n",
    "\n",
    "plt.rcParams['font.sans-serif'] = ['SimHei']\n",
    "plt.rcParams['font.size'] = 12\n",
    "\n",
    "figure = plt.figure(figsize=(20,10))\n",
    "\n",
    "plt.subplot2grid((2,3), (0,0))\n",
    "data_train.Survived.value_counts().plot(kind='bar')\n",
    "plt.title('获救情况（1为获救）')\n",
    "plt.ylabel('人数')\n",
    "\n",
    "plt.subplot2grid((2,3), (0,1))\n",
    "data_train.Pclass.value_counts().plot(kind='bar')\n",
    "plt.title('乘客等级分布')\n",
    "plt.ylabel('人数')\n",
    "\n",
    "plt.subplot2grid((2,3), (0,2))\n",
    "data_train.Embarked.value_counts().plot(kind='bar')\n",
    "plt.title('各口岸登船人数')\n",
    "plt.ylabel('人数')\n",
    "\n",
    "plt.subplot2grid((2,3), (1,0))\n",
    "plt.scatter(data_train.Survived,data_train.Age)\n",
    "plt.grid(b=True, which='major', axis='y')\n",
    "plt.title('按年龄看获救分布（1为获救）')\n",
    "plt.ylabel('年龄')\n",
    "\n",
    "plt.subplot2grid((2,3), (1,1), colspan=2)\n",
    "data_train.Age[data_train.Pclass == 1].plot(kind='kde')   \n",
    "data_train.Age[data_train.Pclass == 2].plot(kind='kde')\n",
    "data_train.Age[data_train.Pclass == 3].plot(kind='kde')\n",
    "plt.xlabel(\"年龄\")\n",
    "plt.xlim(-1, 100)\n",
    "plt.ylabel(\"密度\") \n",
    "plt.title(\"各等级乘客年龄分布\")\n",
    "plt.legend(('1等舱', '2等舱', '3等舱'), loc='best')\n",
    "\n",
    "plt.show()"
   ]
  },
  {
   "cell_type": "code",
   "execution_count": null,
   "metadata": {},
   "outputs": [],
   "source": [
    "Survived_0 = data_train.Pclass[data_train.Survived == 0].value_counts()\n",
    "Survived_1 = data_train.Pclass[data_train.Survived == 1].value_counts()\n",
    "df = pd.DataFrame({'获救': Survived_1, '未获救': Survived_0})\n",
    "df.plot(kind='bar')\n",
    "# df.plot(kind='bar', stacked=True)\n",
    "plt.xlabel('乘客等级')\n",
    "plt.ylabel('人数')\n",
    "plt.title('各等级乘客的获救情况')\n",
    "\n",
    "plt.show()"
   ]
  },
  {
   "cell_type": "code",
   "execution_count": null,
   "metadata": {},
   "outputs": [],
   "source": [
    "Survived_0 = data_train.Sex[data_train.Survived == 0].value_counts()\n",
    "Survived_1 = data_train.Sex[data_train.Survived == 1].value_counts()\n",
    "df = pd.DataFrame({'获救': Survived_1, '未获救': Survived_0})\n",
    "df.plot(kind='bar')\n",
    "plt.xlabel('性别')\n",
    "plt.ylabel('人数')\n",
    "plt.title('按性别查看获救情况')\n",
    "\n",
    "plt.show()"
   ]
  },
  {
   "cell_type": "code",
   "execution_count": null,
   "metadata": {},
   "outputs": [],
   "source": [
    "Survived_m = data_train.Survived[data_train.Sex == 'male'].value_counts()\n",
    "Survived_f = data_train.Survived[data_train.Sex == 'female'].value_counts()\n",
    "df=pd.DataFrame({'男性': Survived_m, '女性': Survived_f})\n",
    "df.plot(kind='bar')\n",
    "plt.xlabel(\"获救与否\") \n",
    "plt.ylabel(\"人数\")\n",
    "plt.title(\"按性别查看获救情况\")\n",
    "\n",
    "plt.show()"
   ]
  },
  {
   "cell_type": "code",
   "execution_count": null,
   "metadata": {},
   "outputs": [],
   "source": [
    "s = data_train.pivot_table(index='Pclass', values='Fare')\n",
    "s\n",
    "# 每个舱位等级的船票的平均价格"
   ]
  }
 ]
}